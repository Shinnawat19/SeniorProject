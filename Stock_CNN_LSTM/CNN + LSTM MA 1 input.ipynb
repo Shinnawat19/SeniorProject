{
 "cells": [
  {
   "cell_type": "code",
   "execution_count": null,
   "metadata": {
    "collapsed": true
   },
   "outputs": [],
   "source": [
    "import numpy as np\n",
    "import csv\n",
    "import matplotlib.pyplot as plt\n",
    "from keras.models import Sequential\n",
    "from keras.layers.wrappers import TimeDistributed\n",
    "from keras.layers import Conv2D, Dense, Dropout, Activation, Flatten, MaxPooling2D, LSTM\n",
    "from keras.optimizers import SGD"
   ]
  },
  {
   "cell_type": "code",
   "execution_count": null,
   "metadata": {
    "collapsed": true
   },
   "outputs": [],
   "source": [
    "SET50 = ['ADVANC', 'AOT', 'BANPU', 'BBL', 'BCP', 'BDMS',\n",
    "        'BEM', 'BH', 'BJC', 'BTS', 'CENTEL', 'CPALL', \n",
    "         'CPF', 'CPN', 'DTAC', 'EGCO', 'HMPRO', \n",
    "         'INTUCH', 'IRPC', 'KBANK', 'KCE', 'KKP', 'KTB', 'LH', 'MINT', 'PTT',\n",
    "        'PTTEP', 'ROBINS', 'SCB', 'SCC', \n",
    "        'TCAP', 'TISCO', 'TMB', 'TOP', 'TRUE', 'TU']"
   ]
  },
  {
   "cell_type": "code",
   "execution_count": null,
   "metadata": {
    "collapsed": true
   },
   "outputs": [],
   "source": [
    "lr = 0.1\n",
    "epochs = 10000\n",
    "batch_size = 100\n",
    "optimizer = SGD(lr=lr)\n",
    "activator = 'tanh'\n",
    "loss_method = 'mse'\n",
    "metrics = ['mae', 'accuracy']"
   ]
  },
  {
   "cell_type": "code",
   "execution_count": null,
   "metadata": {
    "collapsed": true
   },
   "outputs": [],
   "source": [
    "def load_stock_data(symbol, year_start, year_end):\n",
    "    stock_data = []\n",
    "    with open('../Data set/FIXED_SET50/' + symbol + '.BK.csv', 'r') as csv_file:\n",
    "        file_data = csv.reader(csv_file, delimiter=',')\n",
    "        file_data = list(file_data)[1:]\n",
    "        moving_average_data = []\n",
    "        for row in file_data:\n",
    "            if row[1] is '':\n",
    "                continue\n",
    "            elif len(moving_average_data) < 30:\n",
    "                moving_average_data.append(float(row[1]))\n",
    "            elif int(row[0][0:4]) >= year_start and int(row[0][0:4]) <= year_end:\n",
    "                ma = np.sum(moving_average_data) / 30\n",
    "                temp = float(row[1])\n",
    "                diff_ma = temp - ma\n",
    "                stock_data.append([diff_ma])\n",
    "                del moving_average_data[0]\n",
    "                moving_average_data.append(float(row[1]))\n",
    "    return stock_data"
   ]
  },
  {
   "cell_type": "code",
   "execution_count": null,
   "metadata": {
    "collapsed": true
   },
   "outputs": [],
   "source": [
    "stock_datas = [ load_stock_data(x, 2008, 2017) for x in SET50 ]\n",
    "\n",
    "min_count = len(stock_datas[0])\n",
    "rounds = min_count - 30\n",
    "train_index = int(rounds * 0.7)"
   ]
  },
  {
   "cell_type": "code",
   "execution_count": null,
   "metadata": {
    "collapsed": true
   },
   "outputs": [],
   "source": [
    "def create_cnn():\n",
    "    model = Sequential()\n",
    "    model.add(Conv2D(64, (7, 1), input_shape=(len(stock_datas), 30, 1), padding='same'))\n",
    "    model.add(Activation(activator))\n",
    "    model.add(MaxPooling2D(pool_size = (2, 1), data_format= \"channels_last\"))\n",
    "    model.add(Flatten())\n",
    "    model.add(Dense(1024))\n",
    "    model.add(Activation(activator))\n",
    "    model.add(Dense(256))\n",
    "    model.add(Activation(activator))\n",
    "    model.add(Dropout(0.2))\n",
    "    model.add(Dense(len(stock_datas)))\n",
    "    return model\n",
    "\n",
    "def create_model():\n",
    "    cnn = create_cnn()\n",
    "    model = Sequential()\n",
    "    model.add(TimeDistributed(cnn, input_shape=(1, len(stock_datas), 30, 1)))\n",
    "    model.add(LSTM(512, return_sequences=True))\n",
    "    model.add(Activation(activator))\n",
    "    model.add(Dropout(0.2))\n",
    "    model.add(LSTM(512, return_sequences=True))\n",
    "    model.add(Activation(activator))\n",
    "    model.add(Dropout(0.2))\n",
    "    model.add(LSTM(512, return_sequences=True))\n",
    "    model.add(Activation(activator))\n",
    "    model.add(Dropout(0.2))\n",
    "    model.add(Dense(len(stock_datas)))\n",
    "    model.summary()\n",
    "    return model"
   ]
  },
  {
   "cell_type": "code",
   "execution_count": null,
   "metadata": {
    "collapsed": true
   },
   "outputs": [],
   "source": [
    "model = create_model()\n",
    "model.compile(loss=loss_method, optimizer=optimizer, metrics=metrics)"
   ]
  },
  {
   "cell_type": "code",
   "execution_count": null,
   "metadata": {
    "collapsed": true
   },
   "outputs": [],
   "source": [
    "data = []\n",
    "count = 0\n",
    "index = 0\n",
    "while index < rounds:\n",
    "    temp = [i[index : index + 30] for i in stock_datas]\n",
    "    data.append([temp])\n",
    "    index += 1\n",
    "    \n",
    "x = np.asarray(data)\n",
    "x_train = x[0: train_index].astype('float32')\n",
    "x_test = x[train_index: train_index + 1].astype('float32')\n",
    "\n",
    "print(x_train.shape, x_test.shape)"
   ]
  },
  {
   "cell_type": "code",
   "execution_count": null,
   "metadata": {
    "collapsed": true
   },
   "outputs": [],
   "source": [
    "target = []\n",
    "index = 0\n",
    "while index < rounds:\n",
    "    temp = [stock_datas[i][index + 30][0] for i in range(len(stock_datas))]\n",
    "    target.append([temp])\n",
    "    index += 1\n",
    "    \n",
    "y = np.asarray(target)\n",
    "y_train = y[0: train_index].astype('float32')\n",
    "y_test = y[train_index: rounds].astype('float32')\n",
    "\n",
    "print(y_train.shape, y_test.shape)"
   ]
  },
  {
   "cell_type": "code",
   "execution_count": null,
   "metadata": {
    "collapsed": true
   },
   "outputs": [],
   "source": [
    "model.fit(x_train, y_train, epochs = epochs, batch_size = batch_size, verbose= 1)\n",
    "model.save('cnnlstmMA1Input.h5')"
   ]
  },
  {
   "cell_type": "code",
   "execution_count": null,
   "metadata": {
    "collapsed": true
   },
   "outputs": [],
   "source": []
  }
 ],
 "metadata": {
  "kernelspec": {
   "display_name": "Python 3",
   "language": "python",
   "name": "python3"
  },
  "language_info": {
   "codemirror_mode": {
    "name": "ipython",
    "version": 3
   },
   "file_extension": ".py",
   "mimetype": "text/x-python",
   "name": "python",
   "nbconvert_exporter": "python",
   "pygments_lexer": "ipython3",
   "version": "3.6.3"
  }
 },
 "nbformat": 4,
 "nbformat_minor": 2
}
