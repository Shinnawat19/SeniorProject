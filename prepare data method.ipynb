{
 "cells": [
  {
   "cell_type": "code",
   "execution_count": 36,
   "metadata": {
    "collapsed": true
   },
   "outputs": [],
   "source": [
    "import numpy as np\n",
    "import csv"
   ]
  },
  {
   "cell_type": "code",
   "execution_count": 2,
   "metadata": {
    "collapsed": true
   },
   "outputs": [],
   "source": [
    "SET50 = ['ADVANC', 'AOT', 'BANPU', 'BBL', 'BCP', 'BDMS',\n",
    "        'BEM', 'BH', 'BJC', 'BTS', 'CENTEL', 'CPALL', 'CPF',\n",
    "        'CPN', 'DTAC', 'EGCO', 'HMPRO', 'INTUCH', \n",
    "        'IRPC', 'KBANK', 'KCE', 'KKP', 'KTB', 'LH', 'MINT', \n",
    "        'PTT', 'PTTEP', 'ROBINS', 'SCB', 'SCC', \n",
    "        'TCAP', 'TISCO', 'TMB', 'TOP', 'TRUE', 'TU']"
   ]
  },
  {
   "cell_type": "markdown",
   "metadata": {},
   "source": [
    "### RAW DATA"
   ]
  },
  {
   "cell_type": "code",
   "execution_count": 8,
   "metadata": {
    "collapsed": true
   },
   "outputs": [],
   "source": [
    "def load_stock_data(symbol, year_start, year_end):\n",
    "    stock_data = []\n",
    "    with open('./Data set/FIXED_SET50/' + symbol + '.BK.csv', 'r') as csv_file:\n",
    "        file_data = csv.reader(csv_file, delimiter=',')\n",
    "        file_data = list(file_data)[1:]\n",
    "        for row in file_data:\n",
    "            if row[1] is '':\n",
    "                continue\n",
    "            elif int(row[0][0:4]) >= year_start and int(row[0][0:4]) <= year_end:\n",
    "                stock_data.append([float(row[1])])\n",
    "                \n",
    "    return stock_data"
   ]
  },
  {
   "cell_type": "markdown",
   "metadata": {},
   "source": [
    "### COMPARE WITH YESTERDAY"
   ]
  },
  {
   "cell_type": "code",
   "execution_count": 6,
   "metadata": {
    "collapsed": true
   },
   "outputs": [],
   "source": [
    "def load_stock_data(symbol, year_start, year_end):\n",
    "    stock_data = []\n",
    "    with open('./Data set/FIXED_SET50/' + symbol + '.BK.csv', 'r') as csv_file:\n",
    "        file_data = csv.reader(csv_file, delimiter=',')\n",
    "        file_data = list(file_data)[1:]\n",
    "        temp_value = 0\n",
    "        for row in file_data:\n",
    "            if row[1] is '':\n",
    "                continue\n",
    "            elif int(row[0][0:4]) >= year_start and int(row[0][0:4]) <= year_end:\n",
    "                temp = float(row[1])\n",
    "                if temp_value != 0:\n",
    "                    unrealize = (temp - temp_value)/ temp_value\n",
    "                else:\n",
    "                    unrealize = 0\n",
    "                unrealize = [\"{0:.2f}\".format(unrealize)]\n",
    "                stock_data.append(unrealize)\n",
    "                temp_value = temp\n",
    "                \n",
    "    return stock_data"
   ]
  },
  {
   "cell_type": "markdown",
   "metadata": {},
   "source": [
    "### DIFFERENCE FROM MOVING AVERAGE"
   ]
  },
  {
   "cell_type": "code",
   "execution_count": 20,
   "metadata": {
    "collapsed": true
   },
   "outputs": [],
   "source": [
    "def load_stock_data(symbol, year_start, year_end):\n",
    "    stock_data = []\n",
    "    with open('./Data set/FIXED_SET50/' + symbol + '.BK.csv', 'r') as csv_file:\n",
    "        file_data = csv.reader(csv_file, delimiter=',')\n",
    "        file_data = list(file_data)[1:]\n",
    "        moving_average_data = []\n",
    "        for row in file_data:\n",
    "            if row[1] is '':\n",
    "                continue\n",
    "            elif len(moving_average_data) < 30:\n",
    "                moving_average_data.append(float(row[1]))\n",
    "            elif int(row[0][0:4]) >= year_start and int(row[0][0:4]) <= year_end:\n",
    "                ma = np.sum(moving_average_data) / 30\n",
    "                temp = float(row[1])\n",
    "                diff_ma = temp - ma\n",
    "                diff_ma = [\"{0:.2f}\".format(diff_ma)]\n",
    "                stock_data.append(diff_ma)\n",
    "                del moving_average_data[0]\n",
    "                moving_average_data.append(float(row[1]))\n",
    "    return stock_data"
   ]
  },
  {
   "cell_type": "code",
   "execution_count": 30,
   "metadata": {},
   "outputs": [],
   "source": [
    "stock_datas = [ load_stock_data(x, 2008, 2017) for x in SET50 ]"
   ]
  }
 ],
 "metadata": {
  "kernelspec": {
   "display_name": "Python 3",
   "language": "python",
   "name": "python3"
  },
  "language_info": {
   "codemirror_mode": {
    "name": "ipython",
    "version": 3
   },
   "file_extension": ".py",
   "mimetype": "text/x-python",
   "name": "python",
   "nbconvert_exporter": "python",
   "pygments_lexer": "ipython3",
   "version": "3.6.3"
  }
 },
 "nbformat": 4,
 "nbformat_minor": 2
}
