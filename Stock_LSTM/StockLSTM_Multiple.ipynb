{
 "cells": [
  {
   "cell_type": "code",
   "execution_count": 1,
   "metadata": {},
   "outputs": [
    {
     "name": "stderr",
     "output_type": "stream",
     "text": [
      "Using TensorFlow backend.\n"
     ]
    }
   ],
   "source": [
    "import pandas as pd\n",
    "import matplotlib.pyplot as plt\n",
    "import numpy as np \n",
    "import math\n",
    "from sklearn.preprocessing import MinMaxScaler\n",
    "from sklearn.metrics import mean_squared_error\n",
    "from keras.models import Sequential\n",
    "from keras.layers import Dense, Activation\n",
    "from keras.layers import LSTM\n",
    "import os\n",
    "import glob\n",
    "import csv"
   ]
  },
  {
   "cell_type": "code",
   "execution_count": 118,
   "metadata": {
    "collapsed": true
   },
   "outputs": [],
   "source": [
    "SET50 = ['ADVANC', 'AOT', 'BANPU', 'BBL', 'BCP', 'BDMS',\n",
    "        'BEM', 'BH', 'BJC', 'BTS', 'CENTEL', 'CPALL', \n",
    "         'CPF', 'CPN', 'DTAC', 'EGCO', 'GLOBAL', 'HMPRO', \n",
    "         'INTUCH', 'IRPC', 'KBANK', 'KCE', 'KKP', 'KTB', 'LH', 'MINT', 'PTT',\n",
    "        'PTTEP', 'ROBINS', 'SCB', 'SCC', \n",
    "        'TCAP', 'TISCO', 'TMB', 'TOP', 'TRUE', 'TU']"
   ]
  },
  {
   "cell_type": "code",
   "execution_count": 165,
   "metadata": {
    "collapsed": true
   },
   "outputs": [],
   "source": [
    "def new_dataset(dataset, step_size):\n",
    "    data_X, data_Y = [], []\n",
    "    for i in range(len(dataset)-step_size-1):\n",
    "        a = dataset[i:(i+step_size), 0]\n",
    "        data_X.append(a)\n",
    "        data_Y.append(dataset[i + step_size, 0])\n",
    "    return np.array(data_X), np.array(data_Y)"
   ]
  },
  {
   "cell_type": "code",
   "execution_count": 260,
   "metadata": {
    "collapsed": true
   },
   "outputs": [],
   "source": [
    "path =r'C:\\Users\\asus\\Desktop\\Stock_LSTM\\SET50'\n",
    "allFiles = glob.glob(path + \"/*.csv\")\n",
    "allName = os.listdir(path)\n",
    "d = {os.path.basename(f).split('.')[0]:pd.read_csv(f,usecols=[4]).dropna().reset_index(drop=True).round(1) for f in allFiles if \"\" in f}"
   ]
  },
  {
   "cell_type": "code",
   "execution_count": 261,
   "metadata": {},
   "outputs": [],
   "source": [
    "scaler = MinMaxScaler(feature_range=(0, 1))\n",
    "train , test , data , target = [] , [] , [] , []\n",
    "for key, value in d.items():\n",
    "    d[key] = np.reshape(value.values, (len(value),1))\n",
    "    d[key] = scaler.fit_transform(value)\n",
    "    train.append(int(len(d[key])*0.8))\n",
    "    test.append(len(d[key]) - int(len(d[key])*0.8))\n",
    "    data.append(d[key][0:int(len(d[key])*0.8),:])\n",
    "    target.append(d[key][int(len(d[key])*0.8):len(d[key]),:])"
   ]
  },
  {
   "cell_type": "code",
   "execution_count": 262,
   "metadata": {},
   "outputs": [],
   "source": [
    "x_train , y_train , x_test , y_test = [] , [] , [] , []\n",
    "for value in data:\n",
    "    x_train.append(new_dataset(value,1))\n",
    "    y_train.append(new_dataset(value,1))\n",
    "for value in target:\n",
    "    x_test.append(new_dataset(value,1))\n",
    "    y_test.append(new_dataset(value,1))"
   ]
  },
  {
   "cell_type": "code",
   "execution_count": 263,
   "metadata": {},
   "outputs": [],
   "source": [
    "for index, value in enumerate(x_train):\n",
    "    x_train[index] = np.reshape(x_train[index][0], (x_train[index][0].shape[0], 1, x_train[index][0].shape[1]))\n",
    "for index, value in enumerate(x_test):\n",
    "    x_test[index] = np.reshape(x_test[index][0], (x_test[index][0].shape[0], 1, x_test[index][0].shape[1]))"
   ]
  },
  {
   "cell_type": "code",
   "execution_count": 278,
   "metadata": {},
   "outputs": [
    {
     "name": "stdout",
     "output_type": "stream",
     "text": [
      "Shape of x_train\n",
      "(3362, 1, 1)\n",
      "(2503, 1, 1)\n",
      "(3536, 1, 1)\n",
      "(3386, 1, 1)\n",
      "(4324, 1, 1)\n",
      "(2623, 1, 1)\n",
      "(2146, 1, 1)\n",
      "(2504, 1, 1)\n",
      "(2662, 1, 1)\n",
      "(2320, 1, 1)\n",
      "(2638, 1, 1)\n",
      "(1253, 1, 1)\n",
      "(3342, 1, 1)\n",
      "(1613, 1, 1)\n",
      "(1852, 1, 1)\n",
      "(3391, 1, 1)\n",
      "(1577, 1, 1)\n",
      "(3143, 1, 1)\n",
      "(1325, 1, 1)\n",
      "(3006, 1, 1)\n",
      "(3394, 1, 1)\n",
      "(2407, 1, 1)\n",
      "(3284, 1, 1)\n",
      "(1677, 1, 1)\n",
      "(2554, 1, 1)\n",
      "(3145, 1, 1)\n",
      "(2972, 1, 1)\n",
      "(1566, 1, 1)\n",
      "(2334, 1, 1)\n",
      "(3392, 1, 1)\n",
      "(3311, 1, 1)\n",
      "(3342, 1, 1)\n",
      "(1569, 1, 1)\n",
      "(3387, 1, 1)\n",
      "(2374, 1, 1)\n",
      "(3536, 1, 1)\n",
      "(811, 1, 1)\n",
      "\n",
      "Shape of  x_test\n",
      "(840, 1, 1)\n",
      "(625, 1, 1)\n",
      "(883, 1, 1)\n",
      "(846, 1, 1)\n",
      "(1080, 1, 1)\n",
      "(655, 1, 1)\n",
      "(535, 1, 1)\n",
      "(625, 1, 1)\n",
      "(665, 1, 1)\n",
      "(579, 1, 1)\n",
      "(659, 1, 1)\n",
      "(312, 1, 1)\n",
      "(835, 1, 1)\n",
      "(402, 1, 1)\n",
      "(462, 1, 1)\n",
      "(847, 1, 1)\n",
      "(393, 1, 1)\n",
      "(785, 1, 1)\n",
      "(330, 1, 1)\n",
      "(750, 1, 1)\n",
      "(847, 1, 1)\n",
      "(601, 1, 1)\n",
      "(820, 1, 1)\n",
      "(418, 1, 1)\n",
      "(637, 1, 1)\n",
      "(785, 1, 1)\n",
      "(742, 1, 1)\n",
      "(390, 1, 1)\n",
      "(582, 1, 1)\n",
      "(847, 1, 1)\n",
      "(827, 1, 1)\n",
      "(835, 1, 1)\n",
      "(391, 1, 1)\n",
      "(846, 1, 1)\n",
      "(592, 1, 1)\n",
      "(883, 1, 1)\n",
      "(202, 1, 1)\n"
     ]
    }
   ],
   "source": [
    "print('Shape of x_train')\n",
    "for index, value in enumerate(x_train):\n",
    "    print(x_train[index].shape)\n",
    "print('\\nShape of  x_test')\n",
    "for index, value in enumerate(x_test):\n",
    "    print(x_test[index].shape)"
   ]
  },
  {
   "cell_type": "code",
   "execution_count": null,
   "metadata": {
    "collapsed": true
   },
   "outputs": [],
   "source": []
  },
  {
   "cell_type": "code",
   "execution_count": null,
   "metadata": {},
   "outputs": [],
   "source": []
  },
  {
   "cell_type": "code",
   "execution_count": null,
   "metadata": {},
   "outputs": [],
   "source": []
  },
  {
   "cell_type": "code",
   "execution_count": null,
   "metadata": {},
   "outputs": [],
   "source": []
  },
  {
   "cell_type": "code",
   "execution_count": null,
   "metadata": {},
   "outputs": [],
   "source": []
  },
  {
   "cell_type": "code",
   "execution_count": null,
   "metadata": {
    "collapsed": true
   },
   "outputs": [],
   "source": []
  }
 ],
 "metadata": {
  "kernelspec": {
   "display_name": "Python 3",
   "language": "python",
   "name": "python3"
  },
  "language_info": {
   "codemirror_mode": {
    "name": "ipython",
    "version": 3
   },
   "file_extension": ".py",
   "mimetype": "text/x-python",
   "name": "python",
   "nbconvert_exporter": "python",
   "pygments_lexer": "ipython3",
   "version": "3.6.3"
  }
 },
 "nbformat": 4,
 "nbformat_minor": 2
}
