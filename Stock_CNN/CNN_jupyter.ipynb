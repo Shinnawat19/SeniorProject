{
 "cells": [
  {
   "cell_type": "code",
   "execution_count": 1,
   "metadata": {},
   "outputs": [
    {
     "name": "stderr",
     "output_type": "stream",
     "text": [
      "Using TensorFlow backend.\n"
     ]
    }
   ],
   "source": [
    "import numpy as np\n",
    "import math\n",
    "import csv\n",
    "from statistics import mode\n",
    "from keras.models import Sequential\n",
    "from keras.layers import Conv2D, Dense, Dropout, Activation, Flatten, MaxPooling2D\n",
    "from keras.optimizers import SGD"
   ]
  },
  {
   "cell_type": "code",
   "execution_count": 11,
   "metadata": {
    "collapsed": true
   },
   "outputs": [],
   "source": [
    "# SET50 (unrealize)\n",
    "SET50 = ['ADVANC', 'AOT', 'BANPU', 'BBL', 'BCP', 'BDMS',\n",
    "        'BEM', 'BH', 'BJC', 'BTS', 'CENTEL', 'CPALL', \n",
    "         'CPF', 'CPN', 'DTAC', 'EGCO', 'GLOBAL', 'HMPRO', \n",
    "         'INTUCH', 'IRPC', 'KBANK', 'KCE', 'KKP', 'KTB', 'LH', 'MINT', 'PTT',\n",
    "        'PTTEP', 'ROBINS', 'SCB', 'SCC', \n",
    "        'TCAP', 'TISCO', 'TMB', 'TOP', 'TRUE', 'TU']\n",
    "\n",
    "# remove (low data) : TPIPP WHA SPRC SAWAD PSH MTLS IVL GPSC EA CBG BPP BEAUTY PTTGC"
   ]
  },
  {
   "cell_type": "code",
   "execution_count": 3,
   "metadata": {
    "collapsed": true
   },
   "outputs": [],
   "source": [
    "def load_stock_data(symbol, year_start, year_end):\n",
    "    stock_data = []\n",
    "    with open('./SET50/' + symbol + '.BK.csv', 'r') as csv_file:\n",
    "        file_data = csv.reader(csv_file, delimiter=',')\n",
    "        file_data = list(file_data)[1:]\n",
    "        temp_value = 0\n",
    "        for row in file_data:\n",
    "            if row[2] is '':\n",
    "                continue\n",
    "            elif int(row[0][0:4]) >= year_start and int(row[0][0:4]) <= year_end:\n",
    "                temp = (float(row[2]) + float(row[3]))/2.0\n",
    "                if temp_value != 0:\n",
    "                    unrealize = (temp - temp_value) / temp_value\n",
    "                else:\n",
    "                    unrealize = 0\n",
    "                unrealize = [\"{0:.3f}\".format(unrealize)]\n",
    "                stock_data.append(unrealize)\n",
    "                temp_value = temp\n",
    "                \n",
    "    return stock_data\n",
    "\n",
    "def mean_square_error(actual, expected):\n",
    "    length = len(actual)\n",
    "    sums_error = 0.0\n",
    "    for i, j in zip(actual, expected):\n",
    "        sums_error += (i[0] - j[0])**2\n",
    "    \n",
    "    return sums_error / length"
   ]
  },
  {
   "cell_type": "code",
   "execution_count": 17,
   "metadata": {
    "scrolled": true
   },
   "outputs": [
    {
     "data": {
      "text/plain": [
       "2043"
      ]
     },
     "execution_count": 17,
     "metadata": {},
     "output_type": "execute_result"
    }
   ],
   "source": [
    "stock_datas = [ load_stock_data(x, 2007, 2017) for x in SET50 ]\n",
    "\n",
    "min_count = len(stock_datas[0])\n",
    "\n",
    "for index, element in enumerate(stock_datas):\n",
    "    if len(element) < min_count:\n",
    "        min_count = len(element)\n",
    "        \n",
    "min_count"
   ]
  },
  {
   "cell_type": "code",
   "execution_count": 28,
   "metadata": {
    "collapsed": true
   },
   "outputs": [],
   "source": [
    "model = Sequential()\n",
    "    \n",
    "model.add(Conv2D(64, (3, 3), input_shape=(len(stock_datas), 30, 1), padding='valid'))\n",
    "model.add(Activation('relu'))\n",
    "model.add(MaxPooling2D(pool_size = (2, 2)))\n",
    "\n",
    "model.add(Conv2D(64, (3 ,3)))\n",
    "model.add(Activation('relu'))\n",
    "model.add(MaxPooling2D(pool_size = (2, 2)))\n",
    "model.add(Dropout(0.25))   \n",
    "      \n",
    "model.add(Flatten())  \n",
    "model.add(Dense(512))  \n",
    "model.add(Activation('relu'))  \n",
    "model.add(Dropout(0.5))\n",
    "model.add(Dense(len(stock_datas)))# equal symbols\n",
    "\n",
    "sgd = SGD(lr = 0.01, momentum = 0.9, decay= 1e-6, nesterov = True)\n",
    "\n",
    "model.compile(loss='mean_squared_error', optimizer=sgd)"
   ]
  },
  {
   "cell_type": "code",
   "execution_count": 29,
   "metadata": {
    "collapsed": true
   },
   "outputs": [],
   "source": [
    "rounds = min_count - 60\n",
    "train_index = int(rounds * 0.9)"
   ]
  },
  {
   "cell_type": "code",
   "execution_count": 30,
   "metadata": {},
   "outputs": [
    {
     "name": "stdout",
     "output_type": "stream",
     "text": [
      "(1784, 37, 30, 1) (199, 37, 30, 1)\n"
     ]
    }
   ],
   "source": [
    "data = []\n",
    "count = 0\n",
    "index = 0\n",
    "while index < rounds:\n",
    "    temp = [i[index : index + 30] for i in stock_datas]\n",
    "    data.append(temp)\n",
    "    index += 1\n",
    "    \n",
    "x = np.asarray(data)\n",
    "x_train = x[0: train_index].astype('float32')\n",
    "x_test = x[train_index: rounds].astype('float32')\n",
    "\n",
    "print(x_train.shape, x_test.shape)"
   ]
  },
  {
   "cell_type": "code",
   "execution_count": 35,
   "metadata": {
    "scrolled": true
   },
   "outputs": [
    {
     "name": "stdout",
     "output_type": "stream",
     "text": [
      "(1784, 37) (199, 37)\n"
     ]
    }
   ],
   "source": [
    "target = []\n",
    "index = 0\n",
    "while index < rounds:\n",
    "    temp = [stock_datas[i][index + 30][0] for i in range(len(stock_datas))]\n",
    "    target.append(temp)\n",
    "    index += 1\n",
    "    \n",
    "y = np.asarray(target)\n",
    "y_train = y[0: train_index].astype('float32')\n",
    "y_test = y[train_index: rounds].astype('float32')\n",
    "\n",
    "print(y_train.shape, y_test.shape)"
   ]
  },
  {
   "cell_type": "code",
   "execution_count": 36,
   "metadata": {
    "scrolled": false
   },
   "outputs": [
    {
     "name": "stdout",
     "output_type": "stream",
     "text": [
      "Train on 1784 samples, validate on 199 samples\n",
      "Epoch 1/100\n",
      "1784/1784 [==============================] - 153s 86ms/step - loss: 0.0010 - val_loss: 2.2197e-04\n",
      "Epoch 2/100\n",
      "1784/1784 [==============================] - 1s 479us/step - loss: 9.8192e-04 - val_loss: 2.1927e-04\n",
      "Epoch 3/100\n",
      "1784/1784 [==============================] - 1s 472us/step - loss: 9.4808e-04 - val_loss: 2.1904e-04\n",
      "Epoch 4/100\n",
      "1784/1784 [==============================] - 1s 470us/step - loss: 9.4111e-04 - val_loss: 2.1917e-04\n",
      "Epoch 5/100\n",
      "1784/1784 [==============================] - 1s 479us/step - loss: 9.4111e-04 - val_loss: 2.1914e-04\n",
      "Epoch 6/100\n",
      "1784/1784 [==============================] - 1s 474us/step - loss: 9.3340e-04 - val_loss: 2.1923e-04\n",
      "Epoch 7/100\n",
      "1784/1784 [==============================] - 1s 480us/step - loss: 9.3247e-04 - val_loss: 2.1929e-04\n",
      "Epoch 8/100\n",
      "1784/1784 [==============================] - 1s 476us/step - loss: 9.2366e-04 - val_loss: 2.1936e-04\n",
      "Epoch 9/100\n",
      "1784/1784 [==============================] - 1s 466us/step - loss: 9.1666e-04 - val_loss: 2.1947e-04\n",
      "Epoch 10/100\n",
      "1784/1784 [==============================] - 1s 477us/step - loss: 9.1705e-04 - val_loss: 2.1951e-04\n",
      "Epoch 11/100\n",
      "1784/1784 [==============================] - 1s 470us/step - loss: 9.1628e-04 - val_loss: 2.1956e-04\n",
      "Epoch 12/100\n",
      "1784/1784 [==============================] - 1s 475us/step - loss: 9.2040e-04 - val_loss: 2.1957e-04\n",
      "Epoch 13/100\n",
      "1784/1784 [==============================] - 1s 470us/step - loss: 9.1090e-04 - val_loss: 2.1956e-04\n",
      "Epoch 14/100\n",
      "1784/1784 [==============================] - 1s 483us/step - loss: 9.1922e-04 - val_loss: 2.1958e-04\n",
      "Epoch 15/100\n",
      "1784/1784 [==============================] - 1s 470us/step - loss: 9.0914e-04 - val_loss: 2.1954e-04\n",
      "Epoch 16/100\n",
      "1784/1784 [==============================] - 1s 469us/step - loss: 9.0576e-04 - val_loss: 2.1954e-04\n",
      "Epoch 17/100\n",
      "1784/1784 [==============================] - 1s 474us/step - loss: 9.0909e-04 - val_loss: 2.1952e-04\n",
      "Epoch 18/100\n",
      "1784/1784 [==============================] - 1s 469us/step - loss: 9.0590e-04 - val_loss: 2.1947e-04\n",
      "Epoch 19/100\n",
      "1784/1784 [==============================] - 1s 484us/step - loss: 9.0572e-04 - val_loss: 2.1947e-04\n",
      "Epoch 20/100\n",
      "1784/1784 [==============================] - 1s 489us/step - loss: 9.0584e-04 - val_loss: 2.1935e-04\n",
      "Epoch 21/100\n",
      "1784/1784 [==============================] - 1s 474us/step - loss: 8.9977e-04 - val_loss: 2.1933e-04\n",
      "Epoch 22/100\n",
      "1784/1784 [==============================] - 1s 478us/step - loss: 8.9421e-04 - val_loss: 2.1932e-04\n",
      "Epoch 23/100\n",
      "1784/1784 [==============================] - 1s 471us/step - loss: 9.0076e-04 - val_loss: 2.1926e-04\n",
      "Epoch 24/100\n",
      "1784/1784 [==============================] - 1s 476us/step - loss: 8.9062e-04 - val_loss: 2.1923e-04\n",
      "Epoch 25/100\n",
      "1784/1784 [==============================] - 1s 493us/step - loss: 8.9770e-04 - val_loss: 2.1921e-04\n",
      "Epoch 26/100\n",
      "1784/1784 [==============================] - 1s 474us/step - loss: 8.8836e-04 - val_loss: 2.1913e-04\n",
      "Epoch 27/100\n",
      "1784/1784 [==============================] - 1s 469us/step - loss: 8.8487e-04 - val_loss: 2.1912e-04\n",
      "Epoch 28/100\n",
      "1784/1784 [==============================] - 1s 476us/step - loss: 8.9350e-04 - val_loss: 2.1905e-04\n",
      "Epoch 29/100\n",
      "1784/1784 [==============================] - 1s 470us/step - loss: 8.8504e-04 - val_loss: 2.1905e-04\n",
      "Epoch 30/100\n",
      "1784/1784 [==============================] - 1s 472us/step - loss: 8.8812e-04 - val_loss: 2.1902e-04\n",
      "Epoch 31/100\n",
      "1784/1784 [==============================] - 1s 470us/step - loss: 8.8367e-04 - val_loss: 2.1895e-04\n",
      "Epoch 32/100\n",
      "1784/1784 [==============================] - 1s 471us/step - loss: 8.8726e-04 - val_loss: 2.1895e-04\n",
      "Epoch 33/100\n",
      "1784/1784 [==============================] - 1s 474us/step - loss: 8.7901e-04 - val_loss: 2.1891e-04\n",
      "Epoch 34/100\n",
      "1784/1784 [==============================] - 1s 473us/step - loss: 8.7570e-04 - val_loss: 2.1890e-04\n",
      "Epoch 35/100\n",
      "1784/1784 [==============================] - 1s 474us/step - loss: 8.7763e-04 - val_loss: 2.1890e-04\n",
      "Epoch 36/100\n",
      "1784/1784 [==============================] - 1s 480us/step - loss: 8.7936e-04 - val_loss: 2.1892e-04\n",
      "Epoch 37/100\n",
      "1784/1784 [==============================] - 1s 471us/step - loss: 8.7632e-04 - val_loss: 2.1885e-04\n",
      "Epoch 38/100\n",
      "1784/1784 [==============================] - 1s 478us/step - loss: 8.8408e-04 - val_loss: 2.1887e-04\n",
      "Epoch 39/100\n",
      "1784/1784 [==============================] - 1s 468us/step - loss: 8.8339e-04 - val_loss: 2.1887e-04\n",
      "Epoch 40/100\n",
      "1784/1784 [==============================] - 1s 492us/step - loss: 8.7402e-04 - val_loss: 2.1882e-04\n",
      "Epoch 41/100\n",
      "1784/1784 [==============================] - 1s 472us/step - loss: 8.7411e-04 - val_loss: 2.1884e-04\n",
      "Epoch 42/100\n",
      "1784/1784 [==============================] - 1s 479us/step - loss: 8.7497e-04 - val_loss: 2.1882e-04\n",
      "Epoch 43/100\n",
      "1784/1784 [==============================] - 1s 472us/step - loss: 8.7012e-04 - val_loss: 2.1879e-04\n",
      "Epoch 44/100\n",
      "1784/1784 [==============================] - 1s 460us/step - loss: 8.7480e-04 - val_loss: 2.1875e-04\n",
      "Epoch 45/100\n",
      "1784/1784 [==============================] - 1s 473us/step - loss: 8.6595e-04 - val_loss: 2.1874e-04\n",
      "Epoch 46/100\n",
      "1784/1784 [==============================] - 1s 470us/step - loss: 8.7045e-04 - val_loss: 2.1872e-04\n",
      "Epoch 47/100\n",
      "1784/1784 [==============================] - 1s 482us/step - loss: 8.6813e-04 - val_loss: 2.1870e-04\n",
      "Epoch 48/100\n",
      "1784/1784 [==============================] - 1s 471us/step - loss: 8.6987e-04 - val_loss: 2.1868e-04\n",
      "Epoch 49/100\n",
      "1784/1784 [==============================] - 1s 481us/step - loss: 8.7021e-04 - val_loss: 2.1867e-04\n",
      "Epoch 50/100\n",
      "1784/1784 [==============================] - 1s 467us/step - loss: 8.6979e-04 - val_loss: 2.1867e-04\n",
      "Epoch 51/100\n",
      "1784/1784 [==============================] - 1s 462us/step - loss: 8.6863e-04 - val_loss: 2.1867e-04\n",
      "Epoch 52/100\n",
      "1784/1784 [==============================] - 1s 476us/step - loss: 8.6866e-04 - val_loss: 2.1866e-04\n",
      "Epoch 53/100\n",
      "1784/1784 [==============================] - 1s 480us/step - loss: 8.7588e-04 - val_loss: 2.1865e-04\n",
      "Epoch 54/100\n",
      "1784/1784 [==============================] - 1s 470us/step - loss: 8.6322e-04 - val_loss: 2.1864e-04\n",
      "Epoch 55/100\n",
      "1784/1784 [==============================] - 1s 471us/step - loss: 8.6895e-04 - val_loss: 2.1860e-04\n",
      "Epoch 56/100\n",
      "1784/1784 [==============================] - 1s 467us/step - loss: 8.6028e-04 - val_loss: 2.1861e-04\n",
      "Epoch 57/100\n",
      "1784/1784 [==============================] - 1s 473us/step - loss: 8.6926e-04 - val_loss: 2.1857e-04\n",
      "Epoch 58/100\n",
      "1784/1784 [==============================] - 1s 477us/step - loss: 8.5529e-04 - val_loss: 2.1858e-04\n",
      "Epoch 59/100\n",
      "1784/1784 [==============================] - 1s 481us/step - loss: 8.6528e-04 - val_loss: 2.1857e-04\n",
      "Epoch 60/100\n",
      "1784/1784 [==============================] - 1s 472us/step - loss: 8.5714e-04 - val_loss: 2.1858e-04\n",
      "Epoch 61/100\n",
      "1784/1784 [==============================] - 1s 484us/step - loss: 8.7019e-04 - val_loss: 2.1859e-04\n",
      "Epoch 62/100\n",
      "1784/1784 [==============================] - 1s 478us/step - loss: 8.5899e-04 - val_loss: 2.1859e-04\n",
      "Epoch 63/100\n",
      "1784/1784 [==============================] - 1s 482us/step - loss: 8.6052e-04 - val_loss: 2.1856e-04\n",
      "Epoch 64/100\n",
      "1784/1784 [==============================] - 1s 472us/step - loss: 8.5928e-04 - val_loss: 2.1852e-04\n",
      "Epoch 65/100\n",
      "1784/1784 [==============================] - 1s 476us/step - loss: 8.5462e-04 - val_loss: 2.1861e-04\n",
      "Epoch 66/100\n",
      "1784/1784 [==============================] - 1s 482us/step - loss: 8.5657e-04 - val_loss: 2.1854e-04\n",
      "Epoch 67/100\n",
      "1784/1784 [==============================] - 1s 477us/step - loss: 8.5977e-04 - val_loss: 2.1848e-04\n",
      "Epoch 68/100\n",
      "1784/1784 [==============================] - 1s 469us/step - loss: 8.5211e-04 - val_loss: 2.1857e-04\n",
      "Epoch 69/100\n",
      "1784/1784 [==============================] - 1s 475us/step - loss: 8.6165e-04 - val_loss: 2.1853e-04\n",
      "Epoch 70/100\n",
      "1784/1784 [==============================] - 1s 470us/step - loss: 8.5479e-04 - val_loss: 2.1852e-04\n",
      "Epoch 71/100\n",
      "1784/1784 [==============================] - 1s 491us/step - loss: 8.5310e-04 - val_loss: 2.1851e-04\n",
      "Epoch 72/100\n"
     ]
    },
    {
     "name": "stdout",
     "output_type": "stream",
     "text": [
      "1784/1784 [==============================] - 1s 475us/step - loss: 8.5453e-04 - val_loss: 2.1848e-04\n",
      "Epoch 73/100\n",
      "1784/1784 [==============================] - 1s 473us/step - loss: 8.5318e-04 - val_loss: 2.1848e-04\n",
      "Epoch 74/100\n",
      "1784/1784 [==============================] - 1s 473us/step - loss: 8.5312e-04 - val_loss: 2.1850e-04\n",
      "Epoch 75/100\n",
      "1784/1784 [==============================] - 1s 470us/step - loss: 8.5104e-04 - val_loss: 2.1851e-04\n",
      "Epoch 76/100\n",
      "1784/1784 [==============================] - 1s 465us/step - loss: 8.4787e-04 - val_loss: 2.1850e-04\n",
      "Epoch 77/100\n",
      "1784/1784 [==============================] - 1s 475us/step - loss: 8.4652e-04 - val_loss: 2.1845e-04\n",
      "Epoch 78/100\n",
      "1784/1784 [==============================] - 1s 473us/step - loss: 8.4848e-04 - val_loss: 2.1843e-04\n",
      "Epoch 79/100\n",
      "1784/1784 [==============================] - 1s 479us/step - loss: 8.4473e-04 - val_loss: 2.1843e-04\n",
      "Epoch 80/100\n",
      "1784/1784 [==============================] - 1s 470us/step - loss: 8.5506e-04 - val_loss: 2.1840e-04\n",
      "Epoch 81/100\n",
      "1784/1784 [==============================] - 1s 477us/step - loss: 8.4985e-04 - val_loss: 2.1841e-04\n",
      "Epoch 82/100\n",
      "1784/1784 [==============================] - 1s 469us/step - loss: 8.4483e-04 - val_loss: 2.1840e-04\n",
      "Epoch 83/100\n",
      "1784/1784 [==============================] - 1s 476us/step - loss: 8.5061e-04 - val_loss: 2.1844e-04\n",
      "Epoch 84/100\n",
      "1784/1784 [==============================] - 1s 473us/step - loss: 8.5169e-04 - val_loss: 2.1843e-04\n",
      "Epoch 85/100\n",
      "1784/1784 [==============================] - 1s 477us/step - loss: 8.4927e-04 - val_loss: 2.1842e-04\n",
      "Epoch 86/100\n",
      "1784/1784 [==============================] - 1s 474us/step - loss: 8.4832e-04 - val_loss: 2.1842e-04\n",
      "Epoch 87/100\n",
      "1784/1784 [==============================] - 1s 466us/step - loss: 8.5000e-04 - val_loss: 2.1838e-04\n",
      "Epoch 88/100\n",
      "1784/1784 [==============================] - 1s 476us/step - loss: 8.4971e-04 - val_loss: 2.1842e-04\n",
      "Epoch 89/100\n",
      "1784/1784 [==============================] - 1s 474us/step - loss: 8.4261e-04 - val_loss: 2.1841e-04\n",
      "Epoch 90/100\n",
      "1784/1784 [==============================] - 1s 471us/step - loss: 8.4512e-04 - val_loss: 2.1836e-04\n",
      "Epoch 91/100\n",
      "1784/1784 [==============================] - 1s 471us/step - loss: 8.4683e-04 - val_loss: 2.1836e-04\n",
      "Epoch 92/100\n",
      "1784/1784 [==============================] - 1s 471us/step - loss: 8.4045e-04 - val_loss: 2.1840e-04\n",
      "Epoch 93/100\n",
      "1784/1784 [==============================] - 1s 469us/step - loss: 8.4819e-04 - val_loss: 2.1841e-04\n",
      "Epoch 94/100\n",
      "1784/1784 [==============================] - 1s 480us/step - loss: 8.4384e-04 - val_loss: 2.1837e-04\n",
      "Epoch 95/100\n",
      "1784/1784 [==============================] - 1s 483us/step - loss: 8.4173e-04 - val_loss: 2.1839e-04\n",
      "Epoch 96/100\n",
      "1784/1784 [==============================] - 1s 488us/step - loss: 8.4659e-04 - val_loss: 2.1836e-04\n",
      "Epoch 97/100\n",
      "1784/1784 [==============================] - 1s 459us/step - loss: 8.4496e-04 - val_loss: 2.1834e-04\n",
      "Epoch 98/100\n",
      "1784/1784 [==============================] - 1s 498us/step - loss: 8.4305e-04 - val_loss: 2.1835e-04\n",
      "Epoch 99/100\n",
      "1784/1784 [==============================] - 1s 471us/step - loss: 8.4409e-04 - val_loss: 2.1835e-04\n",
      "Epoch 100/100\n",
      "1784/1784 [==============================] - 1s 474us/step - loss: 8.4046e-04 - val_loss: 2.1835e-04\n"
     ]
    },
    {
     "data": {
      "text/plain": [
       "<keras.callbacks.History at 0x1b5d6f58eb8>"
      ]
     },
     "execution_count": 36,
     "metadata": {},
     "output_type": "execute_result"
    }
   ],
   "source": [
    "epochs = 100\n",
    "\n",
    "model.fit(x_train, y_train, validation_data = (x_test, y_test), epochs = epochs, shuffle = True, batch_size = 100, verbose= 1)"
   ]
  },
  {
   "cell_type": "code",
   "execution_count": 255,
   "metadata": {
    "scrolled": true
   },
   "outputs": [
    {
     "name": "stdout",
     "output_type": "stream",
     "text": [
      "[[  4.43944242e-03]\n",
      " [  1.56791846e-03]\n",
      " [  1.23050064e-04]\n",
      " [  1.06722268e-03]\n",
      " [  1.43525749e-03]\n",
      " [  1.35611917e-03]\n",
      " [  1.19774602e-03]\n",
      " [  8.66791059e-04]\n",
      " [  1.23048550e-03]\n",
      " [  6.91056601e-04]\n",
      " [ -6.86041312e-06]\n",
      " [  1.62228348e-03]]\n"
     ]
    }
   ],
   "source": [
    "predict = model.predict(x_test, verbose = 0)\n",
    "\n",
    "print(predict)"
   ]
  },
  {
   "cell_type": "code",
   "execution_count": 256,
   "metadata": {},
   "outputs": [
    {
     "name": "stdout",
     "output_type": "stream",
     "text": [
      "6.41176494518e-06\n"
     ]
    }
   ],
   "source": [
    "mse = mean_square_error(classes, y_test)\n",
    "print(mse)"
   ]
  },
  {
   "cell_type": "code",
   "execution_count": null,
   "metadata": {
    "collapsed": true
   },
   "outputs": [],
   "source": []
  }
 ],
 "metadata": {
  "kernelspec": {
   "display_name": "Python 3",
   "language": "python",
   "name": "python3"
  },
  "language_info": {
   "codemirror_mode": {
    "name": "ipython",
    "version": 3
   },
   "file_extension": ".py",
   "mimetype": "text/x-python",
   "name": "python",
   "nbconvert_exporter": "python",
   "pygments_lexer": "ipython3",
   "version": "3.6.3"
  }
 },
 "nbformat": 4,
 "nbformat_minor": 2
}
