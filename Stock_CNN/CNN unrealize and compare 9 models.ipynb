{
 "cells": [
  {
   "cell_type": "code",
   "execution_count": null,
   "metadata": {
    "collapsed": true
   },
   "outputs": [],
   "source": [
    "import numpy as np\n",
    "import pandas as pd\n",
    "import csv\n",
    "import matplotlib.pyplot as plt\n",
    "from keras.models import Sequential, load_model\n",
    "from keras.layers import Conv2D, Dense, Dropout, Activation, Flatten, MaxPooling2D\n",
    "from keras.optimizers import SGD"
   ]
  },
  {
   "cell_type": "code",
   "execution_count": null,
   "metadata": {
    "collapsed": true
   },
   "outputs": [],
   "source": [
    "SET50 = ['ADVANC', 'AOT', 'BANPU', 'BBL', 'BCP', 'BDMS',\n",
    "        'BEM', 'BH', 'BJC', 'BTS', 'CENTEL', 'CPALL', 'CPF',\n",
    "        'CPN', 'DTAC', 'EGCO', 'HMPRO', 'INTUCH', \n",
    "        'IRPC', 'KBANK', 'KCE', 'KKP', 'KTB', 'LH', 'MINT', \n",
    "        'PTT', 'PTTEP', 'ROBINS', 'SCB', 'SCC', \n",
    "        'TCAP', 'TISCO', 'TMB', 'TOP', 'TRUE', 'TU']"
   ]
  },
  {
   "cell_type": "code",
   "execution_count": null,
   "metadata": {
    "collapsed": true
   },
   "outputs": [],
   "source": [
    "lr = 0.1\n",
    "epochs = 10000\n",
    "batch_size = 100\n",
    "optimizer = SGD(lr=lr)\n",
    "model_size = 9\n",
    "activator = 'tanh'\n",
    "loss_method = 'mse'\n",
    "metrics = ['mae', 'accuracy']"
   ]
  },
  {
   "cell_type": "code",
   "execution_count": null,
   "metadata": {
    "collapsed": true
   },
   "outputs": [],
   "source": [
    "def load_stock_data(symbol, year_start, year_end):\n",
    "    stock_data = []\n",
    "    with open('./Data set/FIXED_SET50/' + symbol + '.BK.csv', 'r') as csv_file:\n",
    "        file_data = csv.reader(csv_file, delimiter=',')\n",
    "        file_data = list(file_data)[1:]\n",
    "        temp_value = 0\n",
    "        for row in file_data:\n",
    "            if row[1] is '':\n",
    "                continue\n",
    "            elif int(row[0][0:4]) >= year_start and int(row[0][0:4]) <= year_end:\n",
    "                temp = float(row[1])\n",
    "                if temp_value != 0:\n",
    "                    unrealize = (temp - temp_value)/ temp_value\n",
    "                else:\n",
    "                    unrealize = 0\n",
    "                unrealize = [\"{0:.2f}\".format(unrealize)]\n",
    "                stock_data.append(unrealize)\n",
    "                temp_value = temp\n",
    "                \n",
    "    return stock_data"
   ]
  },
  {
   "cell_type": "code",
   "execution_count": null,
   "metadata": {
    "collapsed": true
   },
   "outputs": [],
   "source": [
    "stock_datas = [ load_stock_data(x, 2008, 2017) for x in SET50 ]\n",
    "\n",
    "min_count = len(stock_datas[0])\n",
    "rounds = min_count - 30\n",
    "train_index = int(rounds * 0.7)"
   ]
  },
  {
   "cell_type": "code",
   "execution_count": null,
   "metadata": {
    "collapsed": true
   },
   "outputs": [],
   "source": [
    "def create_model(conv_count, fully_count):\n",
    "    i = 0\n",
    "    model = Sequential()\n",
    "    while(i <= conv_count):\n",
    "        if i == 0:\n",
    "            model.add(Conv2D(64, (7, 1), input_shape=(len(stock_datas), 30, 1), padding='same'))\n",
    "        else:\n",
    "            model.add(Conv2D(32, (3, 1)))\n",
    "            \n",
    "        model.add(Activation('tanh'))\n",
    "        model.add(MaxPooling2D(pool_size = (2, 1), data_format= \"channels_last\"))\n",
    "        i += 1\n",
    "        \n",
    "    i = 0\n",
    "    model.add(Flatten())\n",
    "    fisrt_dense = 1024\n",
    "    while(i <= fully_count):\n",
    "        if i == fully_count:\n",
    "            model.add(Dropout(0.2))\n",
    "            model.add(Dense(len(stock_datas)))\n",
    "        else:\n",
    "            model.add(Dense(fisrt_dense))  \n",
    "            model.add(Activation('tanh'))\n",
    "            fisrt_dense = fisrt_dense // 4\n",
    "        i += 1\n",
    "    \n",
    "    return model"
   ]
  },
  {
   "cell_type": "code",
   "execution_count": null,
   "metadata": {
    "collapsed": true
   },
   "outputs": [],
   "source": [
    "models = [create_model(i/model_size, i%model_size) for i in range(model_size)]\n",
    "for model in models:\n",
    "    model.compile(loss=loss_method, optimizer=optimizer, metrics=metrics)"
   ]
  },
  {
   "cell_type": "code",
   "execution_count": null,
   "metadata": {
    "collapsed": true
   },
   "outputs": [],
   "source": [
    "data = []\n",
    "count = 0\n",
    "index = 0\n",
    "while index < rounds:\n",
    "    temp = [i[index : index + 30] for i in stock_datas]\n",
    "    data.append(temp)\n",
    "    index += 1\n",
    "    \n",
    "x = np.asarray(data)\n",
    "x_train = x[0: train_index].astype('float32')\n",
    "x_test = x[train_index: train_index + 1].astype('float32')\n",
    "\n",
    "print(x_train.shape, x_test.shape)"
   ]
  },
  {
   "cell_type": "code",
   "execution_count": null,
   "metadata": {
    "collapsed": true
   },
   "outputs": [],
   "source": [
    "target = []\n",
    "index = 0\n",
    "while index < rounds:\n",
    "    temp = [stock_datas[i][index + 30][0] for i in range(len(stock_datas))]\n",
    "    target.append(temp)\n",
    "    index += 1\n",
    "    \n",
    "y = np.asarray(target)\n",
    "y_train = y[0: train_index].astype('float32')\n",
    "y_test = y[train_index: rounds].astype('float32')\n",
    "\n",
    "print(y_train.shape, y_test.shape)"
   ]
  },
  {
   "cell_type": "code",
   "execution_count": null,
   "metadata": {
    "collapsed": true
   },
   "outputs": [],
   "source": [
    "for index, model in enumerate(models):\n",
    "    model.fit(x_train, y_train, epochs = epochs, batch_size = batch_size, verbose= 1)\n",
    "    model_name = 'CNN' + str(index / 3) + 'FC' + str(index % 3) + '.h5'\n",
    "    model.save(model_name)"
   ]
  }
 ],
 "metadata": {
  "kernelspec": {
   "display_name": "Python 3",
   "language": "python",
   "name": "python3"
  },
  "language_info": {
   "codemirror_mode": {
    "name": "ipython",
    "version": 3
   },
   "file_extension": ".py",
   "mimetype": "text/x-python",
   "name": "python",
   "nbconvert_exporter": "python",
   "pygments_lexer": "ipython3",
   "version": "3.6.3"
  }
 },
 "nbformat": 4,
 "nbformat_minor": 2
}
