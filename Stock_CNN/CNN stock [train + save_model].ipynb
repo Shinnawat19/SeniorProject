{
 "cells": [
  {
   "cell_type": "code",
   "execution_count": 3,
   "metadata": {},
   "outputs": [],
   "source": [
    "import numpy as np\n",
    "import csv\n",
    "from keras.models import Sequential\n",
    "from keras.layers import Conv2D, Dense, Dropout, Activation, Flatten, MaxPooling2D\n",
    "from keras.optimizers import SGD"
   ]
  },
  {
   "cell_type": "markdown",
   "metadata": {},
   "source": [
    "VARIABLE INITIALIZE"
   ]
  },
  {
   "cell_type": "code",
   "execution_count": 48,
   "metadata": {
    "collapsed": true
   },
   "outputs": [],
   "source": [
    "SET50 = ['ADVANC', 'AOT', 'BANPU', 'BBL', 'BCP', 'BDMS',\n",
    "        'BEM', 'BH', 'BJC', 'BTS', 'CENTEL', 'CPALL', 'CPF',\n",
    "        'CPN', 'DTAC', 'EGCO', 'GLOBAL', 'HMPRO', 'INTUCH', \n",
    "        'IRPC', 'KBANK', 'KCE', 'KKP', 'KTB', 'LH', 'MINT', \n",
    "        'PTT', 'PTTEP', 'ROBINS', 'SCB', 'SCC', \n",
    "        'TCAP', 'TISCO', 'TMB', 'TOP', 'TRUE', 'TU']"
   ]
  },
  {
   "cell_type": "code",
   "execution_count": 49,
   "metadata": {
    "collapsed": true
   },
   "outputs": [],
   "source": [
    "lr = 0.95\n",
    "decay = 1e-6\n",
    "epochs = 1000\n",
    "model_size = 9\n",
    "optimizer = SGD(lr=lr, decay=decay)\n",
    "activator = 'tanh'\n",
    "loss_method = 'mse'\n",
    "metrics = ['mae', 'accuracy']"
   ]
  },
  {
   "cell_type": "code",
   "execution_count": 50,
   "metadata": {
    "collapsed": true
   },
   "outputs": [],
   "source": [
    "def load_stock_data(symbol, year_start, year_end):\n",
    "    stock_data = []\n",
    "    with open('./SET50/' + symbol + '.BK.csv', 'r') as csv_file:\n",
    "        file_data = csv.reader(csv_file, delimiter=',')\n",
    "        file_data = list(file_data)[1:]\n",
    "        temp_value = 0\n",
    "        for row in file_data:\n",
    "            if row[1] is '':\n",
    "                continue\n",
    "            elif int(row[0][0:4]) >= year_start and int(row[0][0:4]) <= year_end:\n",
    "                temp = (float(row[1]) + float(row[4]))/2.0\n",
    "                if temp_value != 0:\n",
    "                    unrealize = (temp - temp_value)/ temp_value\n",
    "                else:\n",
    "                    unrealize = 0\n",
    "                unrealize = [\"{0:.4f}\".format(unrealize)]\n",
    "                stock_data.append(unrealize)\n",
    "                temp_value = temp\n",
    "                \n",
    "    return stock_data"
   ]
  },
  {
   "cell_type": "code",
   "execution_count": 51,
   "metadata": {},
   "outputs": [
    {
     "data": {
      "text/plain": [
       "2043"
      ]
     },
     "execution_count": 51,
     "metadata": {},
     "output_type": "execute_result"
    }
   ],
   "source": [
    "stock_datas = [ load_stock_data(x, 2007, 2017) for x in SET50 ]\n",
    "\n",
    "min_count = len(stock_datas[0])\n",
    "\n",
    "for index, element in enumerate(stock_datas):\n",
    "    if len(element) < min_count:\n",
    "        min_count = len(element)\n",
    "\n",
    "min_count"
   ]
  },
  {
   "cell_type": "code",
   "execution_count": 63,
   "metadata": {},
   "outputs": [],
   "source": [
    "def create_model(conv_layer, fc_layer):\n",
    "    model = Sequential()\n",
    "    for i in range(conv_layer + 1):\n",
    "        if i == 0:\n",
    "            model.add(Conv2D(64, (7, 1), input_shape=(len(stock_datas), 30, 1), padding='same'))\n",
    "        else:\n",
    "            model.add(Conv2D(32, (3, 1)))\n",
    "        \n",
    "        model.add(Activation(activator))\n",
    "        model.add(MaxPooling2D(pool_size = (2, 1)))\n",
    "    \n",
    "    model.add(Flatten())\n",
    "    \n",
    "    for i in range(fc_layer + 1):\n",
    "        if i + 1 == fc_layer:\n",
    "            model.add(Dropout(0.2))\n",
    "            model.add(Dense(len(stock_datas)))\n",
    "        else:\n",
    "            model.add(Dense(256))  \n",
    "            model.add(Activation(activator))\n",
    "            \n",
    "    return model"
   ]
  },
  {
   "cell_type": "code",
   "execution_count": 64,
   "metadata": {},
   "outputs": [],
   "source": [
    "models = [create_model(int(i/3), i%3) for i in range(model_size)]"
   ]
  },
  {
   "cell_type": "code",
   "execution_count": 65,
   "metadata": {},
   "outputs": [],
   "source": [
    "for model in models:\n",
    "    model.compile(loss=loss_method, optimizer=optimizer, metrics=metrics)"
   ]
  },
  {
   "cell_type": "code",
   "execution_count": 66,
   "metadata": {
    "collapsed": true
   },
   "outputs": [],
   "source": [
    "period = 30\n",
    "rounds = min_count - period\n",
    "\n",
    "train_index = int(rounds * 0.85)\n",
    "validate_index = train_index + int(rounds * 0.05)"
   ]
  },
  {
   "cell_type": "code",
   "execution_count": 67,
   "metadata": {},
   "outputs": [
    {
     "name": "stdout",
     "output_type": "stream",
     "text": [
      "(1711, 37, 30, 1) (100, 37, 30, 1) (1, 37, 30, 1)\n"
     ]
    }
   ],
   "source": [
    "data = []\n",
    "\n",
    "for i in range(rounds):\n",
    "    temp = [i[index : index + 30] for i in stock_datas]\n",
    "    data.append(temp)\n",
    "    \n",
    "data = np.asarray(data)\n",
    "x_train = data[0: train_index].astype('float32')\n",
    "x_validate = data[train_index: validate_index].astype('float32')\n",
    "x_test = data[validate_index: validate_index + 1].astype('float32') # only one month to predict long term\n",
    "\n",
    "print(x_train.shape, x_validate.shape, x_test.shape)"
   ]
  },
  {
   "cell_type": "code",
   "execution_count": 68,
   "metadata": {},
   "outputs": [
    {
     "name": "stdout",
     "output_type": "stream",
     "text": [
      "(1711, 37) (100, 37) (202, 37)\n"
     ]
    }
   ],
   "source": [
    "target = []\n",
    "\n",
    "for i in range(rounds):\n",
    "    temp = [i[index + 30][0] for i in stock_datas]\n",
    "    target.append(temp)\n",
    "    \n",
    "target = np.asarray(target)\n",
    "y_train = target[0: train_index].astype('float32')\n",
    "y_validate = target[train_index: validate_index].astype('float32')\n",
    "y_test = target[validate_index: rounds].astype('float32')\n",
    "\n",
    "print(y_train.shape, y_validate.shape, y_test.shape)"
   ]
  },
  {
   "cell_type": "code",
   "execution_count": 79,
   "metadata": {},
   "outputs": [
    {
     "name": "stdout",
     "output_type": "stream",
     "text": [
      "cnn: 1 layers, fc: 1 layers\n",
      "cnn: 1 layers, fc: 2 layers\n",
      "cnn: 1 layers, fc: 3 layers\n",
      "cnn: 2 layers, fc: 1 layers\n",
      "cnn: 2 layers, fc: 2 layers\n",
      "cnn: 2 layers, fc: 3 layers\n",
      "cnn: 3 layers, fc: 1 layers\n",
      "cnn: 3 layers, fc: 2 layers\n",
      "cnn: 3 layers, fc: 3 layers\n"
     ]
    }
   ],
   "source": [
    "for (index, model) in enumerate(models):\n",
    "    model_name = \"cnn\", str(int(index/3) + 1) + \"fc\", str(int(index%3) + 1) + \".h5\"\n",
    "    print(\"cnn:\", str(int(index/3) + 1) , \"layers, fc:\", str(int(index%3) + 1), \"layers\")\n",
    "    model.fit(x_train, y_train, validation_data = (x_validate, y_validate), epochs = epochs, batch_size = 1, verbose= 1)\n",
    "    model.save(model_name)"
   ]
  },
  {
   "cell_type": "code",
   "execution_count": null,
   "metadata": {
    "collapsed": true
   },
   "outputs": [],
   "source": []
  }
 ],
 "metadata": {
  "kernelspec": {
   "display_name": "Python 3",
   "language": "python",
   "name": "python3"
  },
  "language_info": {
   "codemirror_mode": {
    "name": "ipython",
    "version": 3
   },
   "file_extension": ".py",
   "mimetype": "text/x-python",
   "name": "python",
   "nbconvert_exporter": "python",
   "pygments_lexer": "ipython3",
   "version": "3.6.3"
  }
 },
 "nbformat": 4,
 "nbformat_minor": 2
}
