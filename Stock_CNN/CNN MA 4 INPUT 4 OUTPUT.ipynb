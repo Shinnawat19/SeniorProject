{
 "cells": [
  {
   "cell_type": "code",
   "execution_count": null,
   "metadata": {
    "collapsed": true
   },
   "outputs": [],
   "source": [
    "import numpy as np\n",
    "import pandas as pd\n",
    "import csv\n",
    "import matplotlib.pyplot as plt\n",
    "from keras.models import Sequential, load_model\n",
    "from keras.layers import Conv2D, Dense, Dropout, Activation, Flatten, MaxPooling2D\n",
    "from keras.optimizers import SGD"
   ]
  },
  {
   "cell_type": "code",
   "execution_count": null,
   "metadata": {
    "collapsed": true
   },
   "outputs": [],
   "source": [
    "SET50 = ['ADVANC', 'AOT', 'BANPU', 'BBL', 'BCP', 'BDMS',\n",
    "        'BEM', 'BH', 'BJC', 'BTS', 'CENTEL', 'CPALL', 'CPF',\n",
    "        'CPN', 'DTAC', 'EGCO', 'HMPRO', 'INTUCH', \n",
    "        'IRPC', 'KBANK', 'KCE', 'KKP', 'KTB', 'LH', 'MINT', \n",
    "        'PTT', 'PTTEP', 'ROBINS', 'SCB', 'SCC', \n",
    "        'TCAP', 'TISCO', 'TMB', 'TOP', 'TRUE', 'TU']"
   ]
  },
  {
   "cell_type": "code",
   "execution_count": null,
   "metadata": {
    "collapsed": true
   },
   "outputs": [],
   "source": [
    "lr = 0.1\n",
    "epochs = 1000\n",
    "batch_size = 100\n",
    "optimizer = SGD(lr=lr)\n",
    "activator = 'tanh'\n",
    "loss_method = 'mse'\n",
    "metrics = ['mae', 'accuracy']"
   ]
  },
  {
   "cell_type": "code",
   "execution_count": null,
   "metadata": {
    "collapsed": true
   },
   "outputs": [],
   "source": [
    "def load_stock_data(symbol, year_start, year_end):\n",
    "    stock_data = []\n",
    "    with open('./Data set/SET50_OHLC/' + symbol + '.BK.csv', 'r') as csv_file:\n",
    "        file_data = csv.reader(csv_file, delimiter=',')\n",
    "        file_data = list(file_data)[1:]\n",
    "        ma = []\n",
    "        for row in file_data:\n",
    "            if row[1] is '':\n",
    "                continue\n",
    "            elif len(ma) < 30:\n",
    "                ma.append([float(row[1]), float(row[2]), float(row[3]), float(row[4])])\n",
    "            elif int(row[0][0:4]) >= year_start and int(row[0][0:4]) <= year_end:\n",
    "                temp = [float(row[1]), float(row[2]), float(row[3]), float(row[4])]\n",
    "                stock_data.append(find_diff_ma(ma, temp))\n",
    "                del ma[0]\n",
    "                ma.append(temp)\n",
    "    return stock_data\n",
    "\n",
    "def find_diff_ma(moving_averages, current_values):\n",
    "    returns = []\n",
    "    for i in range(len(moving_averages[0])):\n",
    "        data = [moving_average[i] for moving_average in moving_averages]\n",
    "        ma = np.sum(data) / 30\n",
    "        diff_ma = current_values[i] - ma\n",
    "        returns.append(diff_ma)\n",
    "    return returns\n",
    "        "
   ]
  },
  {
   "cell_type": "code",
   "execution_count": null,
   "metadata": {
    "collapsed": true
   },
   "outputs": [],
   "source": [
    "stock_datas = [ load_stock_data(x, 2008, 2017) for x in SET50 ]\n",
    "\n",
    "min_count = len(stock_datas[0])\n",
    "rounds = min_count - 30\n",
    "train_index = int(rounds * 0.75)\n",
    "validate_index = train_index + int(rounds * 0.05)"
   ]
  },
  {
   "cell_type": "code",
   "execution_count": null,
   "metadata": {
    "collapsed": true
   },
   "outputs": [],
   "source": [
    "def create_model():\n",
    "    model = Sequential()\n",
    "    model.add(Conv2D(64, (7, 1), input_shape=(len(stock_datas), 30, 4), padding='same'))\n",
    "    model.add(Activation(activator))\n",
    "    model.add(MaxPooling2D(pool_size = (2, 1), data_format= \"channels_last\"))\n",
    "    model.add(Flatten())\n",
    "    model.add(Dense(1024))  \n",
    "    model.add(Activation(activator))\n",
    "    model.add(Dense(256))  \n",
    "    model.add(Activation(activator))\n",
    "    model.add(Dropout(0.2))\n",
    "    model.add(Dense(len(stock_datas) * 4))\n",
    "    \n",
    "    return model"
   ]
  },
  {
   "cell_type": "code",
   "execution_count": null,
   "metadata": {
    "collapsed": true
   },
   "outputs": [],
   "source": [
    "model = create_model()\n",
    "model.summary()\n",
    "model.compile(loss=loss_method, optimizer=optimizer, metrics=metrics)"
   ]
  },
  {
   "cell_type": "code",
   "execution_count": null,
   "metadata": {
    "collapsed": true
   },
   "outputs": [],
   "source": [
    "data = []\n",
    "count = 0\n",
    "index = 0\n",
    "while index < rounds:\n",
    "    temp = [i[index : index + 30] for i in stock_datas]\n",
    "    data.append(temp)\n",
    "    index += 1\n",
    "    \n",
    "x = np.asarray(data)\n",
    "x_train = x[0: train_index].astype('float32')\n",
    "x_validate = x[train_index: validate_index].astype('float32')\n",
    "x_test = x[validate_index: rounds].astype('float32')\n",
    "\n",
    "print(x_train.shape, x_validate.shape, x_test.shape)"
   ]
  },
  {
   "cell_type": "code",
   "execution_count": null,
   "metadata": {
    "collapsed": true
   },
   "outputs": [],
   "source": [
    "target = []\n",
    "index = 0\n",
    "while index < rounds:\n",
    "    target_data = [stock[index + 30] for stock in stock_datas]\n",
    "    temp = []\n",
    "    for data in target_data:\n",
    "        temp = temp + data\n",
    "    target.append(temp)\n",
    "    index += 1\n",
    "y = np.asarray(target)\n",
    "y_train = y[0: train_index].astype('float32')\n",
    "y_validate = y[train_index: validate_index].astype('float32')\n",
    "y_test = y[validate_index: rounds].astype('float32')\n",
    "\n",
    "print(y_train.shape, y_validate.shape, y_test.shape)"
   ]
  },
  {
   "cell_type": "code",
   "execution_count": null,
   "metadata": {
    "collapsed": true
   },
   "outputs": [],
   "source": [
    "model.fit(x_train, y_train, validation_data = (x_validate, y_validate), epochs = epochs, batch_size = batch_size, verbose= 1)"
   ]
  }
 ],
 "metadata": {
  "kernelspec": {
   "display_name": "Python 3",
   "language": "python",
   "name": "python3"
  },
  "language_info": {
   "codemirror_mode": {
    "name": "ipython",
    "version": 3
   },
   "file_extension": ".py",
   "mimetype": "text/x-python",
   "name": "python",
   "nbconvert_exporter": "python",
   "pygments_lexer": "ipython3",
   "version": "3.6.3"
  }
 },
 "nbformat": 4,
 "nbformat_minor": 2
}
